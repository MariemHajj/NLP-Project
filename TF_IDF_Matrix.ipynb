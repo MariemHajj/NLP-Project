{
  "nbformat": 4,
  "nbformat_minor": 0,
  "metadata": {
    "colab": {
      "name": "TF-IDF-Matrix.ipynb",
      "provenance": [],
      "authorship_tag": "ABX9TyOlTfmiCZNP0D1tadRlV2xs",
      "include_colab_link": true
    },
    "kernelspec": {
      "name": "python3",
      "display_name": "Python 3"
    },
    "language_info": {
      "name": "python"
    }
  },
  "cells": [
    {
      "cell_type": "markdown",
      "metadata": {
        "id": "view-in-github",
        "colab_type": "text"
      },
      "source": [
        "<a href=\"https://colab.research.google.com/github/MariemHajj/NLP-Project/blob/main/TF_IDF_Matrix.ipynb\" target=\"_parent\"><img src=\"https://colab.research.google.com/assets/colab-badge.svg\" alt=\"Open In Colab\"/></a>"
      ]
    },
    {
      "cell_type": "code",
      "metadata": {
        "colab": {
          "base_uri": "https://localhost:8080/"
        },
        "id": "BWKjf1JgfiT7",
        "outputId": "41c4e1d3-9ab6-4455-f2df-fb5a8a97bce9"
      },
      "source": [
        "!pip install gensim\n",
        "from gensim import models,corpora\n",
        "from gensim.utils import simple_preprocess\n",
        "from sklearn.feature_extraction.text import TfidfVectorizer\n",
        "import numpy as np"
      ],
      "execution_count": 6,
      "outputs": [
        {
          "output_type": "stream",
          "text": [
            "Requirement already satisfied: gensim in /usr/local/lib/python3.7/dist-packages (3.6.0)\n",
            "Requirement already satisfied: numpy>=1.11.3 in /usr/local/lib/python3.7/dist-packages (from gensim) (1.19.5)\n",
            "Requirement already satisfied: smart-open>=1.2.1 in /usr/local/lib/python3.7/dist-packages (from gensim) (5.1.0)\n",
            "Requirement already satisfied: six>=1.5.0 in /usr/local/lib/python3.7/dist-packages (from gensim) (1.15.0)\n",
            "Requirement already satisfied: scipy>=0.18.1 in /usr/local/lib/python3.7/dist-packages (from gensim) (1.4.1)\n"
          ],
          "name": "stdout"
        }
      ]
    },
    {
      "cell_type": "code",
      "metadata": {
        "colab": {
          "base_uri": "https://localhost:8080/"
        },
        "id": "N9n-vIkIg-PP",
        "outputId": "584f3c1e-2804-46d0-d317-9d918be21275"
      },
      "source": [
        "text_documents=['Painting is a hobby for many , passion for some',\n",
        "                'My hobby is coin collection'\n",
        "                'I do some Painting every now and then']\n",
        "doc_tokenized = [simple_preprocess(text) for text in text_documents]\n",
        "dictionary = corpora.Dictionary()\n",
        "# Creating the Bag of Words from the docs\n",
        "BoW_corpus = [dictionary.doc2bow(doc, allow_update=True) for doc in doc_tokenized]\n",
        "for doc in BoW_corpus:\n",
        "   print([[dictionary[id], freq] for id, freq in doc])\n",
        "\n",
        "tfidf = models.TfidfModel(BoW_corpus)\n",
        "\n",
        "#> [['for', 2], ['hobby', 1], ['is', 1], ['many', 1], ['painting', 1], ['passion', 1], ['some', 1]]\n",
        "#> [['hobby', 1], ['is', 1], ['painting', 1], ['some', 1], ['and', 1], ['coin', 1], ['collectioni', 1], ['do', 1], ['every', 1], ['my', 1], ['now', 1], ['then', 1]]\n",
        "# Method 2- Using sklearn's TfidfVectorizer\n",
        "\n",
        "# Fit the vectorizer to our text documents\n",
        "vectorizer = TfidfVectorizer()\n",
        "matrix = vectorizer.fit_transform(text_documents)\n",
        "print(matrix)"
      ],
      "execution_count": 8,
      "outputs": [
        {
          "output_type": "stream",
          "text": [
            "[['for', 2], ['hobby', 1], ['is', 1], ['many', 1], ['painting', 1], ['passion', 1], ['some', 1]]\n",
            "[['hobby', 1], ['is', 1], ['painting', 1], ['some', 1], ['and', 1], ['coin', 1], ['collectioni', 1], ['do', 1], ['every', 1], ['my', 1], ['now', 1], ['then', 1]]\n",
            "  (0, 13)\t0.2511643891128359\n",
            "  (0, 12)\t0.35300278529739293\n",
            "  (0, 8)\t0.35300278529739293\n",
            "  (0, 5)\t0.7060055705947859\n",
            "  (0, 6)\t0.2511643891128359\n",
            "  (0, 7)\t0.2511643891128359\n",
            "  (0, 11)\t0.2511643891128359\n",
            "  (1, 14)\t0.31583360086881224\n",
            "  (1, 0)\t0.31583360086881224\n",
            "  (1, 10)\t0.31583360086881224\n",
            "  (1, 4)\t0.31583360086881224\n",
            "  (1, 3)\t0.31583360086881224\n",
            "  (1, 2)\t0.31583360086881224\n",
            "  (1, 1)\t0.31583360086881224\n",
            "  (1, 9)\t0.31583360086881224\n",
            "  (1, 13)\t0.22471820826199104\n",
            "  (1, 6)\t0.22471820826199104\n",
            "  (1, 7)\t0.22471820826199104\n",
            "  (1, 11)\t0.22471820826199104\n"
          ],
          "name": "stdout"
        }
      ]
    },
    {
      "cell_type": "code",
      "metadata": {
        "id": "MRDvBLp48E3w"
      },
      "source": [
        "texts= [\"\"\"It's all about travel. I travel a lot.  those who do not travel read only a page.” – said Saint Augustine. He was a great travel person. Travelling can teach you more than any university course. You learn about the culture of the country you visit. If you talk to locals, you will likely learn about their thinking, habits, traditions and history as well.If you travel, you will not only learn about foreign cultures, but about your own as well. You will notice the cultural differences, and will find out what makes your culture unique. After retrurning from a long journey, you will see your country with new eyes.\"\"\",\n",
        "        \"\"\" You can learn a lot about yourself through travelling. You can observe how you feel beeing far from your country. You will find out how you feel about your homeland.You should travel You will realise how you really feel about foreign people. You will find out how much you know/do not know about the world. You will be able to observe how you react in completely new situations. You will test your language, orientational and social skills. You will not be the same person after returning home.During travelling you will meet people that are very different from you. If you travel enough, you will learn to accept and appreciate these differences. Traveling makes you more open and accepting.\"\"\",\n",
        "        \"\"\"Some of my most cherished memories are from the times when I was travelling. If you travel, you can experience things that you could never experience at home. You may see beautiful places and landscapes that do not exist where you live. You may meet people that will change your life, and your thingking. You may try activities that you have never tried before.Travelling will inevitably make you more independent and confident. You will realise that you can cope with a lot of unexpected situations. You will realise that you can survive without all that help that is always available for you at home. You will likely find out that you are much stronger and braver than you have expected.\"\"\",\n",
        "        \"\"\"If you travel, you may learn a lot of useful things. These things can be anything from a new recepie, to a new, more effective solution to an ordinary problem or a new way of creating something.Even if you go to a country where they speak the same language as you, you may still learn some new words and expressions that are only used there. If you go to a country where they speak a different language, you will learn even more.\"\"\",\n",
        "        \"\"\"After arriving home from a long journey, a lot of travellers experience that they are much more motivated than they were before they left. During your trip you may learn things that you will want to try at home as well. You may want to test your new skills and knowledge. Your experiences will give you a lot of energy.During travelling you may experience the craziest, most exciting things, that will eventually become great stories that you can tell others. When you grow old and look back at your life and all your travel experiences, you will realise how much you have done in your life and your life was not in vain. It can provide you with happiness and satisfaction for the rest of your life.\"\"\",\n",
        "        \"\"\"The benefits of travel are not just a one-time thing: travel changes you physically and psychologically. Having little time or money isn't a valid excuse. You can travel for cheap very easily. If you have a full-time job and a family, you can still travel on the weekends or holidays, even with a baby. travel  more is likely to have a tremendous impact on your mental well-being, especially if you're no used to going out of your comfort zone. Trust me: travel more and your doctor will be happy. Be sure to get in touch with your physician, they might recommend some medication to accompany you in your travels, especially if you're heading to regions of the globe with potentially dangerous diseases.\"\"\",\n",
        "        \"\"\"Sure, you probably feel comfortable where you are, but that is just a fraction of the world! If you are a student, take advantage of programs such as Erasmus to get to know more people, experience and understand their culture. Dare traveling to regions you have a skeptical opinion about. I bet that you will change your mind and realize that everything is not so bad abroad.\"\"\",\n",
        "        \"\"\" So, travel makes you cherish life. Let's travel more . Share your travel diaries with us too\"\"\"\n",
        "        ]"
      ],
      "execution_count": 9,
      "outputs": []
    },
    {
      "cell_type": "code",
      "metadata": {
        "colab": {
          "base_uri": "https://localhost:8080/"
        },
        "id": "TevJxzj18Gki",
        "outputId": "15a94113-9ab2-4d74-a58c-2f062294a75c"
      },
      "source": [
        "# Import gensim, nltk\n",
        "import gensim\n",
        "from gensim import models, corpora\n",
        "import nltk\n",
        "from nltk.corpus import stopwords\n",
        "nltk.download('stopwords')\n",
        "# Before topic extraction, we remove punctuations and stopwords.\n",
        "my_stopwords=set(stopwords.words('english'))\n",
        "punctuations=['.','!',',',\"You\",\"I\"]\n",
        "\n",
        "# We prepare a list containing lists of tokens of each text\n",
        "all_tokens=[]\n",
        "for text in texts:\n",
        "  tokens=[]\n",
        "  raw=nltk.wordpunct_tokenize(text)\n",
        "  for token in raw:\n",
        "    if token not in my_stopwords:\n",
        "      if token not in punctuations:\n",
        "        tokens.append(token)\n",
        "        all_tokens.append(tokens)\n",
        "\n",
        "# Creating a gensim dictionary and the matrix\n",
        "dictionary = corpora.Dictionary(all_tokens) \n",
        "doc_term_matrix = [dictionary.doc2bow(doc) for doc in all_tokens]\n",
        " \n",
        "# Building the model and training it with the matrix \n",
        "from gensim.models.ldamodel import LdaModel\n",
        "model = LdaModel(doc_term_matrix, num_topics=3, id2word = dictionary,passes=40)\n",
        " \n",
        "print(model.print_topics(num_topics=3,num_words=5))\n"
      ],
      "execution_count": 20,
      "outputs": [
        {
          "output_type": "stream",
          "text": [
            "[nltk_data] Downloading package stopwords to /root/nltk_data...\n",
            "[nltk_data]   Package stopwords is already up-to-date!\n",
            "[(0, '0.087*\"travel\" + 0.044*\"\\'\" + 0.042*\"-\" + 0.042*\"time\" + 0.028*\":\"'), (1, '0.056*\"travel\" + 0.051*\"learn\" + 0.035*\"new\" + 0.032*\"If\" + 0.032*\"country\"'), (2, '0.044*\"may\" + 0.040*\"life\" + 0.033*\"experience\" + 0.029*\"home\" + 0.023*\"things\"')]\n"
          ],
          "name": "stdout"
        }
      ]
    },
    {
      "cell_type": "code",
      "metadata": {
        "id": "KLu5TubxMcWH"
      },
      "source": [
        ""
      ],
      "execution_count": null,
      "outputs": []
    },
    {
      "cell_type": "code",
      "metadata": {
        "id": "gP_U3RtJFC8X"
      },
      "source": [
        ""
      ],
      "execution_count": null,
      "outputs": []
    }
  ]
}